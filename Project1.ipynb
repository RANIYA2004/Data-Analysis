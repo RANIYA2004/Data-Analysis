{
 "cells": [
  {
   "cell_type": "markdown",
   "id": "4e9161f7-6381-4198-a393-71e9c77423dc",
   "metadata": {},
   "source": [
    "## Creating the Data Frame"
   ]
  },
  {
   "cell_type": "code",
   "execution_count": 2,
   "id": "5366a91e-5946-4969-8929-730804a5792c",
   "metadata": {},
   "outputs": [
    {
     "name": "stdout",
     "output_type": "stream",
     "text": [
      "DataFrame:\n"
     ]
    },
    {
     "data": {
      "text/html": [
       "<div>\n",
       "<style scoped>\n",
       "    .dataframe tbody tr th:only-of-type {\n",
       "        vertical-align: middle;\n",
       "    }\n",
       "\n",
       "    .dataframe tbody tr th {\n",
       "        vertical-align: top;\n",
       "    }\n",
       "\n",
       "    .dataframe thead th {\n",
       "        text-align: right;\n",
       "    }\n",
       "</style>\n",
       "<table border=\"1\" class=\"dataframe\">\n",
       "  <thead>\n",
       "    <tr style=\"text-align: right;\">\n",
       "      <th></th>\n",
       "      <th>Name</th>\n",
       "      <th>Branch</th>\n",
       "      <th>Year</th>\n",
       "      <th>CGPA</th>\n",
       "    </tr>\n",
       "  </thead>\n",
       "  <tbody>\n",
       "    <tr>\n",
       "      <th>0</th>\n",
       "      <td>Nikhil</td>\n",
       "      <td>CSE</td>\n",
       "      <td>2</td>\n",
       "      <td>9.0</td>\n",
       "    </tr>\n",
       "    <tr>\n",
       "      <th>1</th>\n",
       "      <td>Sanchit</td>\n",
       "      <td>CSE</td>\n",
       "      <td>2</td>\n",
       "      <td>9.1</td>\n",
       "    </tr>\n",
       "    <tr>\n",
       "      <th>2</th>\n",
       "      <td>Aditya</td>\n",
       "      <td>IT</td>\n",
       "      <td>2</td>\n",
       "      <td>9.3</td>\n",
       "    </tr>\n",
       "    <tr>\n",
       "      <th>3</th>\n",
       "      <td>Sagar</td>\n",
       "      <td>IT</td>\n",
       "      <td>1</td>\n",
       "      <td>9.5</td>\n",
       "    </tr>\n",
       "  </tbody>\n",
       "</table>\n",
       "</div>"
      ],
      "text/plain": [
       "      Name Branch  Year  CGPA\n",
       "0   Nikhil    CSE     2   9.0\n",
       "1  Sanchit    CSE     2   9.1\n",
       "2   Aditya     IT     2   9.3\n",
       "3    Sagar     IT     1   9.5"
      ]
     },
     "execution_count": 2,
     "metadata": {},
     "output_type": "execute_result"
    }
   ],
   "source": [
    "import pandas as pd\n",
    "\n",
    "# Data dictionary\n",
    "data = {\n",
    "    'Name': ['Nikhil', 'Sanchit', 'Aditya', 'Sagar'],\n",
    "    'Branch': ['CSE', 'CSE', 'IT', 'IT'],\n",
    "    'Year': [2, 2, 2, 1],\n",
    "    'CGPA': [9.0, 9.1, 9.3, 9.5]\n",
    "}\n",
    "\n",
    "# Creating the DataFrame\n",
    "df = pd.DataFrame(data)\n",
    "print(\"DataFrame:\")\n",
    "df\n"
   ]
  },
  {
   "cell_type": "markdown",
   "id": "e367ecd9-2692-4cfc-b7a1-fd14f69392b8",
   "metadata": {},
   "source": [
    "## Find the average CGPA of the students:"
   ]
  },
  {
   "cell_type": "code",
   "execution_count": 3,
   "id": "70c7730f-2f62-4e9f-856f-591d5441a6ce",
   "metadata": {},
   "outputs": [
    {
     "name": "stdout",
     "output_type": "stream",
     "text": [
      "Average CGPA of the students: 9.225000000000001\n"
     ]
    }
   ],
   "source": [
    "average_cgpa = df['CGPA'].mean()\n",
    "print(f\"Average CGPA of the students: {average_cgpa}\")\n"
   ]
  },
  {
   "cell_type": "markdown",
   "id": "5eaac2e3-a903-4a66-9636-3157762f8f48",
   "metadata": {},
   "source": [
    "## Display the details of all students having CGPA > 9:"
   ]
  },
  {
   "cell_type": "code",
   "execution_count": 4,
   "id": "9caa15db-a02c-44be-9e44-42cf79e09e31",
   "metadata": {},
   "outputs": [
    {
     "name": "stdout",
     "output_type": "stream",
     "text": [
      "\n",
      "Details of all students having CGPA > 9:\n"
     ]
    },
    {
     "data": {
      "text/html": [
       "<div>\n",
       "<style scoped>\n",
       "    .dataframe tbody tr th:only-of-type {\n",
       "        vertical-align: middle;\n",
       "    }\n",
       "\n",
       "    .dataframe tbody tr th {\n",
       "        vertical-align: top;\n",
       "    }\n",
       "\n",
       "    .dataframe thead th {\n",
       "        text-align: right;\n",
       "    }\n",
       "</style>\n",
       "<table border=\"1\" class=\"dataframe\">\n",
       "  <thead>\n",
       "    <tr style=\"text-align: right;\">\n",
       "      <th></th>\n",
       "      <th>Name</th>\n",
       "      <th>Branch</th>\n",
       "      <th>Year</th>\n",
       "      <th>CGPA</th>\n",
       "    </tr>\n",
       "  </thead>\n",
       "  <tbody>\n",
       "    <tr>\n",
       "      <th>1</th>\n",
       "      <td>Sanchit</td>\n",
       "      <td>CSE</td>\n",
       "      <td>2</td>\n",
       "      <td>9.1</td>\n",
       "    </tr>\n",
       "    <tr>\n",
       "      <th>2</th>\n",
       "      <td>Aditya</td>\n",
       "      <td>IT</td>\n",
       "      <td>2</td>\n",
       "      <td>9.3</td>\n",
       "    </tr>\n",
       "    <tr>\n",
       "      <th>3</th>\n",
       "      <td>Sagar</td>\n",
       "      <td>IT</td>\n",
       "      <td>1</td>\n",
       "      <td>9.5</td>\n",
       "    </tr>\n",
       "  </tbody>\n",
       "</table>\n",
       "</div>"
      ],
      "text/plain": [
       "      Name Branch  Year  CGPA\n",
       "1  Sanchit    CSE     2   9.1\n",
       "2   Aditya     IT     2   9.3\n",
       "3    Sagar     IT     1   9.5"
      ]
     },
     "execution_count": 4,
     "metadata": {},
     "output_type": "execute_result"
    }
   ],
   "source": [
    "students_above_9 = df[df['CGPA'] > 9]\n",
    "print(\"\\nDetails of all students having CGPA > 9:\")\n",
    "students_above_9\n"
   ]
  },
  {
   "cell_type": "markdown",
   "id": "611cb3ef-234a-4d21-8ddf-bf2aed4d300b",
   "metadata": {},
   "source": [
    "## Display the details of all CSE students with CGPA > 9:"
   ]
  },
  {
   "cell_type": "code",
   "execution_count": 5,
   "id": "470c938c-63ba-4e78-ba76-39cfb48862df",
   "metadata": {},
   "outputs": [
    {
     "name": "stdout",
     "output_type": "stream",
     "text": [
      "\n",
      "Details of all CSE students with CGPA > 9:\n"
     ]
    },
    {
     "data": {
      "text/html": [
       "<div>\n",
       "<style scoped>\n",
       "    .dataframe tbody tr th:only-of-type {\n",
       "        vertical-align: middle;\n",
       "    }\n",
       "\n",
       "    .dataframe tbody tr th {\n",
       "        vertical-align: top;\n",
       "    }\n",
       "\n",
       "    .dataframe thead th {\n",
       "        text-align: right;\n",
       "    }\n",
       "</style>\n",
       "<table border=\"1\" class=\"dataframe\">\n",
       "  <thead>\n",
       "    <tr style=\"text-align: right;\">\n",
       "      <th></th>\n",
       "      <th>Name</th>\n",
       "      <th>Branch</th>\n",
       "      <th>Year</th>\n",
       "      <th>CGPA</th>\n",
       "    </tr>\n",
       "  </thead>\n",
       "  <tbody>\n",
       "    <tr>\n",
       "      <th>1</th>\n",
       "      <td>Sanchit</td>\n",
       "      <td>CSE</td>\n",
       "      <td>2</td>\n",
       "      <td>9.1</td>\n",
       "    </tr>\n",
       "  </tbody>\n",
       "</table>\n",
       "</div>"
      ],
      "text/plain": [
       "      Name Branch  Year  CGPA\n",
       "1  Sanchit    CSE     2   9.1"
      ]
     },
     "execution_count": 5,
     "metadata": {},
     "output_type": "execute_result"
    }
   ],
   "source": [
    "cse_students_above_9 = df[(df['Branch'] == 'CSE') & (df['CGPA'] > 9)]\n",
    "print(\"\\nDetails of all CSE students with CGPA > 9:\")\n",
    "cse_students_above_9\n"
   ]
  },
  {
   "cell_type": "markdown",
   "id": "61523fdf-fb9f-4f00-ac2f-e0c5496a46b4",
   "metadata": {},
   "source": [
    "## Display the details of the student with the maximum CGPA:"
   ]
  },
  {
   "cell_type": "code",
   "execution_count": 6,
   "id": "34596a1f-fb13-497d-a5cf-1e130f21ec06",
   "metadata": {},
   "outputs": [
    {
     "name": "stdout",
     "output_type": "stream",
     "text": [
      "\n",
      "Details of the student with the maximum CGPA:\n"
     ]
    },
    {
     "data": {
      "text/html": [
       "<div>\n",
       "<style scoped>\n",
       "    .dataframe tbody tr th:only-of-type {\n",
       "        vertical-align: middle;\n",
       "    }\n",
       "\n",
       "    .dataframe tbody tr th {\n",
       "        vertical-align: top;\n",
       "    }\n",
       "\n",
       "    .dataframe thead th {\n",
       "        text-align: right;\n",
       "    }\n",
       "</style>\n",
       "<table border=\"1\" class=\"dataframe\">\n",
       "  <thead>\n",
       "    <tr style=\"text-align: right;\">\n",
       "      <th></th>\n",
       "      <th>Name</th>\n",
       "      <th>Branch</th>\n",
       "      <th>Year</th>\n",
       "      <th>CGPA</th>\n",
       "    </tr>\n",
       "  </thead>\n",
       "  <tbody>\n",
       "    <tr>\n",
       "      <th>3</th>\n",
       "      <td>Sagar</td>\n",
       "      <td>IT</td>\n",
       "      <td>1</td>\n",
       "      <td>9.5</td>\n",
       "    </tr>\n",
       "  </tbody>\n",
       "</table>\n",
       "</div>"
      ],
      "text/plain": [
       "    Name Branch  Year  CGPA\n",
       "3  Sagar     IT     1   9.5"
      ]
     },
     "execution_count": 6,
     "metadata": {},
     "output_type": "execute_result"
    }
   ],
   "source": [
    "max_cgpa_student = df[df['CGPA'] == df['CGPA'].max()]\n",
    "print(\"\\nDetails of the student with the maximum CGPA:\")\n",
    "max_cgpa_student\n"
   ]
  },
  {
   "cell_type": "markdown",
   "id": "86a0da55-f5c7-47d3-a51f-3b36c7f927a1",
   "metadata": {},
   "source": [
    "## Display the average CGPA of each branch:"
   ]
  },
  {
   "cell_type": "code",
   "execution_count": 7,
   "id": "f2575a26-bd3f-473c-b329-8a98d62733c2",
   "metadata": {},
   "outputs": [
    {
     "name": "stdout",
     "output_type": "stream",
     "text": [
      "\n",
      "Average CGPA of each branch:\n"
     ]
    },
    {
     "data": {
      "text/plain": [
       "Branch\n",
       "CSE    9.05\n",
       "IT     9.40\n",
       "Name: CGPA, dtype: float64"
      ]
     },
     "execution_count": 7,
     "metadata": {},
     "output_type": "execute_result"
    }
   ],
   "source": [
    "average_cgpa_branch = df.groupby('Branch')['CGPA'].mean()\n",
    "print(\"\\nAverage CGPA of each branch:\")\n",
    "average_cgpa_branch\n"
   ]
  },
  {
   "cell_type": "code",
   "execution_count": null,
   "id": "b000b179-f6c4-4f81-ab7a-7582eeef440a",
   "metadata": {},
   "outputs": [],
   "source": []
  }
 ],
 "metadata": {
  "kernelspec": {
   "display_name": "Python 3 (ipykernel)",
   "language": "python",
   "name": "python3"
  },
  "language_info": {
   "codemirror_mode": {
    "name": "ipython",
    "version": 3
   },
   "file_extension": ".py",
   "mimetype": "text/x-python",
   "name": "python",
   "nbconvert_exporter": "python",
   "pygments_lexer": "ipython3",
   "version": "3.12.4"
  }
 },
 "nbformat": 4,
 "nbformat_minor": 5
}
